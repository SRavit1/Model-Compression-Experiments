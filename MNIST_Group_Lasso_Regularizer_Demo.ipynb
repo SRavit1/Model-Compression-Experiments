{
  "nbformat": 4,
  "nbformat_minor": 0,
  "metadata": {
    "colab": {
      "name": "MNIST Group Lasso Regularizer Demo.ipynb",
      "provenance": [],
      "collapsed_sections": [
        "1gGZBiZ7C2Jz",
        "3YBs0Nxpp-z-",
        "ew5N2I-zqCAe",
        "SpbDxISIqyOQ",
        "23HPATUxq10H",
        "S_yxbnj2q46o",
        "izcfJJAZqMPH",
        "cuYBF1A7qOjW"
      ],
      "toc_visible": true
    },
    "kernelspec": {
      "name": "python3",
      "display_name": "Python 3"
    },
    "accelerator": "TPU"
  },
  "cells": [
    {
      "cell_type": "markdown",
      "metadata": {
        "id": "1gGZBiZ7C2Jz"
      },
      "source": [
        "Adapted from https://www.tensorflow.org/tutorials/keras/overfit_and_underfit#strategies_to_prevent_overfitting\n",
        "#Goals\n",
        "- demonstrate the effects of Regular, L1, and Lasso Control with low-level control\n",
        "- visualize experiment results through TensorBoard"
      ]
    },
    {
      "cell_type": "markdown",
      "metadata": {
        "id": "3YBs0Nxpp-z-"
      },
      "source": [
        "#Imports"
      ]
    },
    {
      "cell_type": "code",
      "metadata": {
        "id": "gGP0bc2VCkbm"
      },
      "source": [
        "import tensorflow as tf\n",
        "\n",
        "from tensorflow.keras import layers\n",
        "from tensorflow.keras import regularizers"
      ],
      "execution_count": null,
      "outputs": []
    },
    {
      "cell_type": "code",
      "metadata": {
        "id": "BMMWrW4ZDXqk",
        "colab": {
          "base_uri": "https://localhost:8080/"
        },
        "outputId": "681f46b5-8c41-4d55-e142-4d08bf1e4f15"
      },
      "source": [
        "!pip install -q git+https://github.com/tensorflow/docs\n",
        "\n",
        "import tensorflow_docs as tfdocs\n",
        "import tensorflow_docs.modeling\n",
        "import tensorflow_docs.plots"
      ],
      "execution_count": null,
      "outputs": [
        {
          "output_type": "stream",
          "text": [
            "  Building wheel for tensorflow-docs (setup.py) ... \u001b[?25l\u001b[?25hdone\n"
          ],
          "name": "stdout"
        }
      ]
    },
    {
      "cell_type": "code",
      "metadata": {
        "id": "zPQ2s5W1Dav6"
      },
      "source": [
        "from  IPython import display\n",
        "from matplotlib import pyplot as plt\n",
        "\n",
        "import numpy as np\n",
        "\n",
        "import pathlib\n",
        "import shutil\n",
        "import tempfile\n",
        "import gzip\n",
        "import pandas as pd"
      ],
      "execution_count": null,
      "outputs": []
    },
    {
      "cell_type": "code",
      "metadata": {
        "id": "dorQ8XxLDb9K"
      },
      "source": [
        "logdir = pathlib.Path(tempfile.mkdtemp())/\"tensorboard_logs\"\n",
        "shutil.rmtree(logdir, ignore_errors=True)"
      ],
      "execution_count": null,
      "outputs": []
    },
    {
      "cell_type": "markdown",
      "metadata": {
        "id": "ew5N2I-zqCAe"
      },
      "source": [
        "#Dataset Preprocessing"
      ]
    },
    {
      "cell_type": "code",
      "metadata": {
        "id": "iMRYmS-Qsqla"
      },
      "source": [
        "from tensorflow.keras.datasets import mnist"
      ],
      "execution_count": null,
      "outputs": []
    },
    {
      "cell_type": "code",
      "metadata": {
        "id": "wzslWAILssDZ"
      },
      "source": [
        "mnist_data = mnist.load_data()\n",
        "(X_train, Y_train), (X_test, Y_test) = mnist.load_data()\n",
        "\n",
        "X_train = np.reshape(X_train, (60000, 28, 28, 1))\n",
        "X_test = np.reshape (X_test, (10000, 28, 28, 1))\n",
        "\n",
        "Y_train = np.eye(10)[Y_train]\n",
        "Y_test = np.eye(10)[Y_test]"
      ],
      "execution_count": null,
      "outputs": []
    },
    {
      "cell_type": "code",
      "metadata": {
        "id": "tIJedBrosvJh",
        "colab": {
          "base_uri": "https://localhost:8080/"
        },
        "outputId": "fa65a0cc-56d5-48c7-cb01-b73c4452a53b"
      },
      "source": [
        "def display_image (image_matrix):\n",
        "  plt.imshow(np.reshape(image_matrix[:][:], (28, 28)))\n",
        "def display_label (label_onehot):\n",
        "  print(np.where(label_onehot==1)[0].item(0))\n",
        "\n",
        "print (\"label: \", end=\"\")\n",
        "display_label(Y_train[2])\n",
        "display_image(X_train[2])"
      ],
      "execution_count": null,
      "outputs": [
        {
          "output_type": "stream",
          "text": [
            "label: 4\n"
          ],
          "name": "stdout"
        },
        {
          "output_type": "display_data",
          "data": {
            "image/png": "[encoded data removed]",
            "text/plain": [
              "<Figure size 432x288 with 1 Axes>"
            ]
          },
          "metadata": {
            "tags": [],
            "needs_background": "light"
          }
        }
      ]
    },
    {
      "cell_type": "markdown",
      "metadata": {
        "id": "pgrm6t5MqGGe"
      },
      "source": [
        "#Model Training Parameters"
      ]
    },
    {
      "cell_type": "markdown",
      "metadata": {
        "id": "SpbDxISIqyOQ"
      },
      "source": [
        "##Learning Rate Scheduler"
      ]
    },
    {
      "cell_type": "code",
      "metadata": {
        "id": "C0_0mcfXc9vc"
      },
      "source": [
        "SIDE_LENGTH = 28\n",
        "FEATURES = SIDE_LENGTH*SIDE_LENGTH\n",
        "\n",
        "N_VALIDATION = int(1e3)\n",
        "N_TRAIN = int(1e4)\n",
        "BUFFER_SIZE = int(1e4)\n",
        "BATCH_SIZE = 500\n",
        "STEPS_PER_EPOCH = N_TRAIN//BATCH_SIZE"
      ],
      "execution_count": null,
      "outputs": []
    },
    {
      "cell_type": "code",
      "metadata": {
        "id": "mEtFkE3oDwCM"
      },
      "source": [
        "lr_schedule = tf.keras.optimizers.schedules.InverseTimeDecay(\n",
        "  0.001,\n",
        "  decay_steps=STEPS_PER_EPOCH*1000,\n",
        "  decay_rate=1,\n",
        "  staircase=False)\n",
        "\n",
        "def get_optimizer():\n",
        "  return tf.keras.optimizers.Adam(lr_schedule)"
      ],
      "execution_count": null,
      "outputs": []
    },
    {
      "cell_type": "code",
      "metadata": {
        "id": "-dDasa1ODyoL",
        "colab": {
          "base_uri": "https://localhost:8080/",
          "height": 388
        },
        "outputId": "86cfa789-8fd1-46df-b6fe-e1e6e8fc898a"
      },
      "source": [
        "step = np.linspace(0,100000)\n",
        "lr = lr_schedule(step)\n",
        "plt.figure(figsize = (8,6))\n",
        "plt.plot(step/STEPS_PER_EPOCH, lr)\n",
        "plt.ylim([0,max(plt.ylim())])\n",
        "plt.xlabel('Epoch')\n",
        "_ = plt.ylabel('Learning Rate')"
      ],
      "execution_count": null,
      "outputs": [
        {
          "output_type": "display_data",
          "data": {
            "image/png": "[encoded data removed]",
            "text/plain": [
              "<Figure size 576x432 with 1 Axes>"
            ]
          },
          "metadata": {
            "tags": [],
            "needs_background": "light"
          }
        }
      ]
    },
    {
      "cell_type": "markdown",
      "metadata": {
        "id": "23HPATUxq10H"
      },
      "source": [
        "##Training Callbacks"
      ]
    },
    {
      "cell_type": "code",
      "metadata": {
        "id": "P_GwPwt0D0Rj"
      },
      "source": [
        "def get_callbacks(name):\n",
        "  return [\n",
        "    tfdocs.modeling.EpochDots(),\n",
        "    tf.keras.callbacks.EarlyStopping(monitor='val_loss', patience=50),\n",
        "    tf.keras.callbacks.TensorBoard(logdir/name),\n",
        "  ]"
      ],
      "execution_count": null,
      "outputs": []
    },
    {
      "cell_type": "markdown",
      "metadata": {
        "id": "S_yxbnj2q46o"
      },
      "source": [
        "##Training Method"
      ]
    },
    {
      "cell_type": "code",
      "metadata": {
        "id": "wUd7p95oD1GL"
      },
      "source": [
        "def compile_and_fit(model, name, optimizer=None, max_epochs=10000):\n",
        "  if optimizer is None:\n",
        "    optimizer = get_optimizer()\n",
        "  model.compile(\n",
        "      optimizer=optimizer,\n",
        "      loss=tf.keras.losses.categorical_crossentropy,\n",
        "      metrics=['accuracy']\n",
        "  )\n",
        "\n",
        "  model.summary()\n",
        "\n",
        "  history = model.fit(\n",
        "    X_train,\n",
        "    Y_train,\n",
        "    steps_per_epoch = STEPS_PER_EPOCH,\n",
        "    epochs=max_epochs,\n",
        "    validation_data=(X_test, Y_test),\n",
        "    callbacks=get_callbacks(name),\n",
        "    verbose=1\n",
        "  )\n",
        "  return history"
      ],
      "execution_count": null,
      "outputs": []
    },
    {
      "cell_type": "markdown",
      "metadata": {
        "id": "XexWDwC-qJX2"
      },
      "source": [
        "#Training Models"
      ]
    },
    {
      "cell_type": "code",
      "metadata": {
        "id": "4E51qTnV9yRR"
      },
      "source": [
        "histories = {}"
      ],
      "execution_count": null,
      "outputs": []
    },
    {
      "cell_type": "code",
      "metadata": {
        "id": "mZjRvjakxpDh"
      },
      "source": [
        "def getModel(regularizer, name=None):\n",
        "  initializer = tf.keras.initializers.RandomNormal(mean=0., stddev=1., seed = 0)\n",
        "  return tf.keras.Sequential([\n",
        "    layers.Reshape((FEATURES,), input_shape=(SIDE_LENGTH, SIDE_LENGTH),),\n",
        "    layers.Dense(100, activation='elu', kernel_regularizer=regularizer, kernel_initializer=initializer),\n",
        "    layers.Dense(100, activation='elu', kernel_regularizer=regularizer, kernel_initializer=initializer),\n",
        "    layers.Dense(10, activation='softmax', kernel_regularizer=regularizer, kernel_initializer=initializer)\n",
        "  ], name=name)"
      ],
      "execution_count": null,
      "outputs": []
    },
    {
      "cell_type": "markdown",
      "metadata": {
        "id": "izcfJJAZqMPH"
      },
      "source": [
        "##Training Regular Model"
      ]
    },
    {
      "cell_type": "code",
      "metadata": {
        "id": "owDU-1oFD2fL"
      },
      "source": [
        "regular_model_name = \"regular\"\n",
        "regular_model = getModel(None, regular_model_name)\n",
        "histories[regular_model_name] = compile_and_fit(regular_model, regular_model_name)"
      ],
      "execution_count": null,
      "outputs": []
    },
    {
      "cell_type": "markdown",
      "metadata": {
        "id": "cuYBF1A7qOjW"
      },
      "source": [
        "##Training L1 Model"
      ]
    },
    {
      "cell_type": "code",
      "metadata": {
        "id": "Jy4HBSUJEg9o"
      },
      "source": [
        "l1_model_name = \"L1\"\n",
        "l1_model = getModel(regularizers.l1(0.001), l1_model_name)\n",
        "histories[l1_model_name] = compile_and_fit(l1_model, l1_model_name)"
      ],
      "execution_count": null,
      "outputs": []
    },
    {
      "cell_type": "markdown",
      "metadata": {
        "id": "gjYAGhr_Yf-5"
      },
      "source": [
        "##Training Group Lasso Model\n",
        "Writing a custom regularizer: https://www.tensorflow.org/api_docs/python/tf/keras/regularizers/Regularizer"
      ]
    },
    {
      "cell_type": "markdown",
      "metadata": {
        "id": "gGB-xAnMqnkX"
      },
      "source": [
        "###Writing our custom regularizer"
      ]
    },
    {
      "cell_type": "code",
      "metadata": {
        "id": "OKcZTt1qXfhQ"
      },
      "source": [
        "#writing custom group regularizer\n",
        "#Group Lasso Regularizer: Implementation of Eq. 2 in https://arxiv.org/pdf/1611.06321.pdf\n",
        "#@tf.keras.utils.register_keras_serializable(package='Custom', name='groupLasso')\n",
        "class GroupLassoRegularizer(tf.keras.regularizers.Regularizer):\n",
        "  def __init__(self, l=1e-2, alpha=0.5):\n",
        "    self.l = l\n",
        "    self.alpha = 0.5\n",
        "\n",
        "  def __call__(self, x):\n",
        "    term1_coeff = self.l * tf.math.reduce_sum(tf.math.square(x))\n",
        "    layer_group_sum = 0\n",
        "    for c in range(x.shape[1]):\n",
        "      group = x[:,c]\n",
        "      layer_group_sum += tf.sqrt(tf.math.reduce_sum(tf.math.square(group)))\n",
        "    term1 = term1_coeff*layer_group_sum\n",
        "\n",
        "    term2 = self.l * tf.math.reduce_sum(tf.math.abs(x))\n",
        "\n",
        "    return (1-self.alpha)*term1 + self.alpha*term2\n",
        "\n",
        "  def get_config(self):\n",
        "    return {'l': float(self.l)}"
      ],
      "execution_count": null,
      "outputs": []
    },
    {
      "cell_type": "code",
      "metadata": {
        "id": "7PlshzJ-mmGi"
      },
      "source": [
        "group_lasso_model_name = \"GroupLasso\"\n",
        "group_lasso_model = getModel(GroupLassoRegularizer(l=1e-2), group_lasso_model_name)\n",
        "histories[group_lasso_model_name] = compile_and_fit(group_lasso_model, group_lasso_model_name)"
      ],
      "execution_count": null,
      "outputs": []
    },
    {
      "cell_type": "markdown",
      "metadata": {
        "id": "Tmy3zGgFTPbw"
      },
      "source": [
        "#Visualizing Distributions of Variables Post-Training"
      ]
    },
    {
      "cell_type": "code",
      "metadata": {
        "id": "LDWvHBQITO9C"
      },
      "source": [
        "#Simply viewing the raw distribution of kernel variables\n",
        "def visualizeDistribution(kernel, title):\n",
        "  flattened_kernel = kernel.flatten()\n",
        "  fig, ax = plt.subplots()\n",
        "  ax.hist(flattened_kernel, bins = int(len(flattened_kernel)/5.))\n",
        "  ax.set_title(title)\n",
        "\n",
        "#Looking at the distribution of average of absolute value of groups of each variable\n",
        "def visualizeGroupDistribution(kernel, title):\n",
        "  group_norms = []\n",
        "  for c in range(kernel.shape[1]):\n",
        "    group = kernel[:,c]\n",
        "    group_norm = np.sqrt(np.sum(np.square(group)))\n",
        "    group_norms.append(group_norm)\n",
        "  \n",
        "  fig, ax = plt.subplots()\n",
        "  ax.hist(group_norms)\n",
        "  ax.set_title(title)"
      ],
      "execution_count": null,
      "outputs": []
    },
    {
      "cell_type": "code",
      "metadata": {
        "id": "HRqdK66cVH-N"
      },
      "source": [
        "#visualizing distributions for all kernels in the model\n",
        "def visualizeAllDistributions(model):\n",
        "  counter = 0\n",
        "  variables = model.variables\n",
        "  for variable in variables:\n",
        "    if (\"kernel\" in variable.name):\n",
        "      visualizeDistribution(variable.numpy(), model.name + \" Model: Kernel \" + str(counter) + \" Distribution\")\n",
        "    counter+=1\n",
        "\n",
        "#visualizing group norm distributions for all kernels in the model\n",
        "def visualizeAllGroupDistributions(model):\n",
        "  counter = 0\n",
        "  variables = model.variables\n",
        "  for variable in variables:\n",
        "    if (\"kernel\" in variable.name):\n",
        "      visualizeGroupDistribution(variable.numpy(), model.name + \" Model: Group Kernel \" + str(counter) + \" Distribution\")\n",
        "    counter+=1"
      ],
      "execution_count": null,
      "outputs": []
    },
    {
      "cell_type": "markdown",
      "metadata": {
        "id": "ncy5iNeXblTA"
      },
      "source": [
        "##Visualizing Distributions"
      ]
    },
    {
      "cell_type": "code",
      "metadata": {
        "id": "Iuj-xC2nWBo7",
        "colab": {
          "base_uri": "https://localhost:8080/",
          "height": 809
        },
        "outputId": "cd74a0da-751c-4e7a-c47f-84e413ced47a"
      },
      "source": [
        "visualizeAllDistributions(regular_model)"
      ],
      "execution_count": null,
      "outputs": [
        {
          "output_type": "display_data",
          "data": {
            "image/png": "[encoded data removed]",
            "text/plain": [
              "<Figure size 432x288 with 1 Axes>"
            ]
          },
          "metadata": {
            "tags": [],
            "needs_background": "light"
          }
        },
        {
          "output_type": "display_data",
          "data": {
            "image/png": "[encoded data removed]",
            "text/plain": [
              "<Figure size 432x288 with 1 Axes>"
            ]
          },
          "metadata": {
            "tags": [],
            "needs_background": "light"
          }
        },
        {
          "output_type": "display_data",
          "data": {
            "image/png": "[encoded data removed]",
            "text/plain": [
              "<Figure size 432x288 with 1 Axes>"
            ]
          },
          "metadata": {
            "tags": [],
            "needs_background": "light"
          }
        }
      ]
    },
    {
      "cell_type": "code",
      "metadata": {
        "id": "1CrORTy_Ya3c",
        "colab": {
          "base_uri": "https://localhost:8080/",
          "height": 809
        },
        "outputId": "a665f105-62fb-4e43-d7b4-8cd548604672"
      },
      "source": [
        "visualizeAllDistributions(l1_model)"
      ],
      "execution_count": null,
      "outputs": [
        {
          "output_type": "display_data",
          "data": {
            "image/png": "[encoded data removed]",
            "text/plain": [
              "<Figure size 432x288 with 1 Axes>"
            ]
          },
          "metadata": {
            "tags": [],
            "needs_background": "light"
          }
        },
        {
          "output_type": "display_data",
          "data": {
            "image/png": "[encoded data removed]",
            "text/plain": [
              "<Figure size 432x288 with 1 Axes>"
            ]
          },
          "metadata": {
            "tags": [],
            "needs_background": "light"
          }
        },
        {
          "output_type": "display_data",
          "data": {
            "image/png": "[encoded data removed]",
            "text/plain": [
              "<Figure size 432x288 with 1 Axes>"
            ]
          },
          "metadata": {
            "tags": [],
            "needs_background": "light"
          }
        }
      ]
    },
    {
      "cell_type": "code",
      "metadata": {
        "id": "B_j5E1imV3hO",
        "colab": {
          "base_uri": "https://localhost:8080/",
          "height": 809
        },
        "outputId": "504fbf90-abe8-4b40-b819-64b4a20599ef"
      },
      "source": [
        "visualizeAllDistributions(group_lasso_model)"
      ],
      "execution_count": null,
      "outputs": [
        {
          "output_type": "display_data",
          "data": {
            "image/png": "[encoded data removed]",
            "text/plain": [
              "<Figure size 432x288 with 1 Axes>"
            ]
          },
          "metadata": {
            "tags": [],
            "needs_background": "light"
          }
        },
        {
          "output_type": "display_data",
          "data": {
            "image/png": "[encoded data removed]",
            "text/plain": [
              "<Figure size 432x288 with 1 Axes>"
            ]
          },
          "metadata": {
            "tags": [],
            "needs_background": "light"
          }
        },
        {
          "output_type": "display_data",
          "data": {
            "image/png": "[encoded data removed]",
            "text/plain": [
              "<Figure size 432x288 with 1 Axes>"
            ]
          },
          "metadata": {
            "tags": [],
            "needs_background": "light"
          }
        }
      ]
    },
    {
      "cell_type": "markdown",
      "metadata": {
        "id": "AhkO5ux6bg_x"
      },
      "source": [
        "##Visualizing Group Distributions"
      ]
    },
    {
      "cell_type": "code",
      "metadata": {
        "id": "ETsHLRp8YhgU",
        "colab": {
          "base_uri": "https://localhost:8080/",
          "height": 809
        },
        "outputId": "917e77ef-5c32-4bc5-fb88-e9e139129559"
      },
      "source": [
        "visualizeAllGroupDistributions(regular_model)"
      ],
      "execution_count": null,
      "outputs": [
        {
          "output_type": "display_data",
          "data": {
            "image/png": "[encoded data removed]",
            "text/plain": [
              "<Figure size 432x288 with 1 Axes>"
            ]
          },
          "metadata": {
            "tags": [],
            "needs_background": "light"
          }
        },
        {
          "output_type": "display_data",
          "data": {
            "image/png": "[encoded data removed]",
            "text/plain": [
              "<Figure size 432x288 with 1 Axes>"
            ]
          },
          "metadata": {
            "tags": [],
            "needs_background": "light"
          }
        },
        {
          "output_type": "display_data",
          "data": {
            "image/png": "[encoded data removed]",
            "text/plain": [
              "<Figure size 432x288 with 1 Axes>"
            ]
          },
          "metadata": {
            "tags": [],
            "needs_background": "light"
          }
        }
      ]
    },
    {
      "cell_type": "code",
      "metadata": {
        "id": "pa4baMEIYn9d",
        "colab": {
          "base_uri": "https://localhost:8080/",
          "height": 809
        },
        "outputId": "ce2c5ad0-2f25-48c2-9b14-c715fb9df3e3"
      },
      "source": [
        "visualizeAllGroupDistributions(l1_model)"
      ],
      "execution_count": null,
      "outputs": [
        {
          "output_type": "display_data",
          "data": {
            "image/png": "[encoded data removed]",
            "text/plain": [
              "<Figure size 432x288 with 1 Axes>"
            ]
          },
          "metadata": {
            "tags": [],
            "needs_background": "light"
          }
        },
        {
          "output_type": "display_data",
          "data": {
            "image/png": "[encoded data removed]",
            "text/plain": [
              "<Figure size 432x288 with 1 Axes>"
            ]
          },
          "metadata": {
            "tags": [],
            "needs_background": "light"
          }
        },
        {
          "output_type": "display_data",
          "data": {
            "image/png": "[encoded data removed]",
            "text/plain": [
              "<Figure size 432x288 with 1 Axes>"
            ]
          },
          "metadata": {
            "tags": [],
            "needs_background": "light"
          }
        }
      ]
    },
    {
      "cell_type": "code",
      "metadata": {
        "id": "lUAriv2oYnJV",
        "colab": {
          "base_uri": "https://localhost:8080/",
          "height": 809
        },
        "outputId": "87140bc2-b621-467c-d56b-ff8dc2a23542"
      },
      "source": [
        "visualizeAllGroupDistributions(group_lasso_model)"
      ],
      "execution_count": null,
      "outputs": [
        {
          "output_type": "display_data",
          "data": {
            "image/png": "[encoded data removed]",
            "text/plain": [
              "<Figure size 432x288 with 1 Axes>"
            ]
          },
          "metadata": {
            "tags": [],
            "needs_background": "light"
          }
        },
        {
          "output_type": "display_data",
          "data": {
            "image/png": "[encoded data removed]",
            "text/plain": [
              "<Figure size 432x288 with 1 Axes>"
            ]
          },
          "metadata": {
            "tags": [],
            "needs_background": "light"
          }
        },
        {
          "output_type": "display_data",
          "data": {
            "image/png": "[encoded data removed]",
            "text/plain": [
              "<Figure size 432x288 with 1 Axes>"
            ]
          },
          "metadata": {
            "tags": [],
            "needs_background": "light"
          }
        }
      ]
    },
    {
      "cell_type": "markdown",
      "metadata": {
        "id": "3aa6qE7PbqWB"
      },
      "source": [
        "##Counting Zero Parameters and Groups"
      ]
    },
    {
      "cell_type": "code",
      "metadata": {
        "id": "iR0rNu1_WdTn"
      },
      "source": [
        "def countAllZeroParameters(model, threshold=0.01):\n",
        "  counter = 0\n",
        "  variables = model.variables\n",
        "  print(\"# parameters close to 0 in \" + model.name + \" Model: \")\n",
        "  for variable in variables:\n",
        "    if (\"kernel\" in variable.name):\n",
        "      variable = variable.numpy()\n",
        "      totalZeros = np.logical_and(variable<threshold, variable>-threshold).sum()\n",
        "      print(\"\\tKernel \" + str(counter) + \": \" + str(totalZeros) + \" parameters (\" + str(round(totalZeros*100./variable.size, 2)) + \"%)\")\n",
        "    counter+=1\n",
        "\n",
        "def countAllZeroGroups(model, threshold=0.05):\n",
        "  counter = 0\n",
        "  variables = model.variables\n",
        "  print(\"# groups close to 0 in \" + model.name + \" Model: \")\n",
        "  for variable in variables:\n",
        "    if (\"kernel\" in variable.name):\n",
        "      group_norms = []\n",
        "      for c in range(variable.shape[1]):\n",
        "        group = variable[:,c]\n",
        "        group_norm = np.sqrt(np.sum(np.square(group)))\n",
        "        group_norms.append(group_norm)\n",
        "      totalZeroGroups = (np.abs(group_norms)<threshold).sum()\n",
        "      print(\"\\tKernel \" + str(counter) + \": \" + str(totalZeroGroups) + \" groups (\" + str(round(totalZeroGroups*100./variable.shape[1], 2)) + \"%)\")\n",
        "      counter += 1"
      ],
      "execution_count": null,
      "outputs": []
    },
    {
      "cell_type": "code",
      "metadata": {
        "id": "5Xdn5GyyaIat",
        "colab": {
          "base_uri": "https://localhost:8080/"
        },
        "outputId": "c4570e53-b168-4562-bd97-8ec006887c9a"
      },
      "source": [
        "countAllZeroParameters(regular_model)\n",
        "countAllZeroParameters(l1_model)\n",
        "countAllZeroParameters(group_lasso_model)"
      ],
      "execution_count": null,
      "outputs": [
        {
          "output_type": "stream",
          "text": [
            "# parameters close to 0 in regular Model: \n",
            "\tKernel 0: 614 parameters (0.78%)\n",
            "\tKernel 2: 73 parameters (0.73%)\n",
            "\tKernel 4: 9 parameters (0.9%)\n",
            "# parameters close to 0 in L1 Model: \n",
            "\tKernel 0: 39371 parameters (50.22%)\n",
            "\tKernel 2: 1294 parameters (12.94%)\n",
            "\tKernel 4: 55 parameters (5.5%)\n",
            "# parameters close to 0 in GroupLasso Model: \n",
            "\tKernel 0: 77695 parameters (99.1%)\n",
            "\tKernel 2: 9904 parameters (99.04%)\n",
            "\tKernel 4: 948 parameters (94.8%)\n"
          ],
          "name": "stdout"
        }
      ]
    },
    {
      "cell_type": "code",
      "metadata": {
        "id": "A_O3quldderH",
        "colab": {
          "base_uri": "https://localhost:8080/"
        },
        "outputId": "c851328b-4990-4654-acf3-8102685c2877"
      },
      "source": [
        "countAllZeroGroups(regular_model)\n",
        "countAllZeroGroups(l1_model)\n",
        "countAllZeroGroups(group_lasso_model)"
      ],
      "execution_count": null,
      "outputs": [
        {
          "output_type": "stream",
          "text": [
            "# groups close to 0 in regular Model: \n",
            "\tKernel 0: 0 groups (0.0%)\n",
            "\tKernel 1: 0 groups (0.0%)\n",
            "\tKernel 2: 0 groups (0.0%)\n",
            "# groups close to 0 in L1 Model: \n",
            "\tKernel 0: 0 groups (0.0%)\n",
            "\tKernel 1: 0 groups (0.0%)\n",
            "\tKernel 2: 0 groups (0.0%)\n",
            "# groups close to 0 in GroupLasso Model: \n",
            "\tKernel 0: 78 groups (78.0%)\n",
            "\tKernel 1: 91 groups (91.0%)\n",
            "\tKernel 2: 0 groups (0.0%)\n"
          ],
          "name": "stdout"
        }
      ]
    },
    {
      "cell_type": "markdown",
      "metadata": {
        "id": "b_RZQ-gLkAxs"
      },
      "source": [
        "#Evaluating performance after removing groups"
      ]
    },
    {
      "cell_type": "code",
      "metadata": {
        "id": "IyYhc8odlS2M"
      },
      "source": [
        "def removeZeroGroups(model, threshold=0.01):\n",
        "    counter = 0\n",
        "    variables = model.variables\n",
        "    newVariables = []\n",
        "    for variable in variables:\n",
        "      if (\"kernel\" in variable.name):\n",
        "        variable_value = variable.numpy()\n",
        "        group_norms = []\n",
        "        n_groups = 0\n",
        "        for c in range(variable.shape[1]):\n",
        "          group = variable[:,c]\n",
        "          group_norm = np.sqrt(np.sum(np.square(group)))\n",
        "          if (group_norm < threshold):\n",
        "            n_groups += 1\n",
        "            variable_value[:,c] = 0\n",
        "          group_norms.append(group_norm)\n",
        "        print(\"Removed \" + str(n_groups) + \" groups from variable #\" + str(counter) + \" (\" + str(round(n_groups*100./variable.shape[1], 2)) + \"% of total)\")\n",
        "        variable.assign(tf.convert_to_tensor(variable_value))\n",
        "      counter += 1"
      ],
      "execution_count": null,
      "outputs": []
    },
    {
      "cell_type": "code",
      "metadata": {
        "id": "RJ_GDOIslrAN",
        "colab": {
          "base_uri": "https://localhost:8080/"
        },
        "outputId": "262db9f8-8047-4bb6-ffce-63db43c7ebde"
      },
      "source": [
        "removeZeroGroups(group_lasso_model)\n",
        "loss, accuracy = group_lasso_model.evaluate(x=X_test, y=Y_test)"
      ],
      "execution_count": null,
      "outputs": [
        {
          "output_type": "stream",
          "text": [
            "Removed 78 groups from variable #0 (78.0% of total)\n",
            "Removed 91 groups from variable #2 (91.0% of total)\n",
            "Removed 0 groups from variable #4 (0.0% of total)\n",
            "313/313 [==============================] - 1s 3ms/step - loss: 0.3885 - accuracy: 0.9628\n"
          ],
          "name": "stdout"
        }
      ]
    },
    {
      "cell_type": "markdown",
      "metadata": {
        "id": "a651amt4qgIw"
      },
      "source": [
        "#Visualizing Results with Tensorboard"
      ]
    },
    {
      "cell_type": "code",
      "metadata": {
        "id": "UD4-pv0JD67D",
        "colab": {
          "base_uri": "https://localhost:8080/",
          "height": 290
        },
        "outputId": "b9c3cd96-e932-47c9-81a5-9defb196af20"
      },
      "source": [
        "plotter = tfdocs.plots.HistoryPlotter(metric = 'loss', smoothing_std=10)\n",
        "plotter.plot(histories)"
      ],
      "execution_count": null,
      "outputs": [
        {
          "output_type": "display_data",
          "data": {
            "image/png": "[encoded data removed]",
            "text/plain": [
              "<Figure size 432x288 with 1 Axes>"
            ]
          },
          "metadata": {
            "tags": [],
            "needs_background": "light"
          }
        }
      ]
    },
    {
      "cell_type": "code",
      "metadata": {
        "id": "KZN7XLZXEMDM",
        "colab": {
          "base_uri": "https://localhost:8080/",
          "height": 821
        },
        "outputId": "db82db23-01e2-4f61-bc7d-438e3db45697"
      },
      "source": [
        "# Load the TensorBoard notebook extension\n",
        "%load_ext tensorboard\n",
        "\n",
        "# Open an embedded TensorBoard viewer\n",
        "%tensorboard --logdir {logdir}"
      ],
      "execution_count": null,
      "outputs": []
    },
    {
      "cell_type": "code",
      "metadata": {
        "id": "vc5HHGgAajBO"
      },
      "source": [
        "tensorboard dev list"
      ],
      "execution_count": null,
      "outputs": []
    },
    {
      "cell_type": "code",
      "metadata": {
        "id": "hOxeHtOyEOpE"
      },
      "source": [
        "!tensorboard dev upload --logdir  {logdir} \\\n",
        "  --name \"Regularizer experiment with MNIST\" \\\n",
        "  --description \"Implementing and testing group lasso regularizer\" \\\n",
        "  --one_shot"
      ],
      "execution_count": null,
      "outputs": []
    }
  ]
}